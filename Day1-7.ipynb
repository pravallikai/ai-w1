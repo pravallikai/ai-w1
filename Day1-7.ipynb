{
  "nbformat": 4,
  "nbformat_minor": 0,
  "metadata": {
    "colab": {
      "provenance": [],
      "authorship_tag": "ABX9TyNJiQBBw/nsZn2ssBN0IsBy",
      "include_colab_link": true
    },
    "kernelspec": {
      "name": "python3",
      "display_name": "Python 3"
    },
    "language_info": {
      "name": "python"
    }
  },
  "cells": [
    {
      "cell_type": "markdown",
      "metadata": {
        "id": "view-in-github",
        "colab_type": "text"
      },
      "source": [
        "<a href=\"https://colab.research.google.com/github/pravallikai/ai-w1/blob/main/Day1-7.ipynb\" target=\"_parent\"><img src=\"https://colab.research.google.com/assets/colab-badge.svg\" alt=\"Open In Colab\"/></a>"
      ]
    },
    {
      "cell_type": "code",
      "execution_count": 1,
      "metadata": {
        "colab": {
          "base_uri": "https://localhost:8080/"
        },
        "id": "uWjm30-KU9JW",
        "outputId": "5fa1266a-9e1a-424b-961e-e5d2344769ba"
      },
      "outputs": [
        {
          "output_type": "stream",
          "name": "stdout",
          "text": [
            "Colab ready\n",
            "Python: 3.12.12\n",
            "Executable: /usr/bin/python3\n"
          ]
        }
      ],
      "source": [
        "import platform, sys\n",
        "print(\"Colab ready\")\n",
        "print(\"Python:\", platform.python_version())\n",
        "print(\"Executable:\", sys.executable)"
      ]
    },
    {
      "cell_type": "code",
      "source": [
        "# Lab 1: Hello & Age\n",
        "name = input(\"Your name: \")\n",
        "age = int(input(\"Your age: \"))   # int(...) converts text to a number\n",
        "print(f\"Hi {name}, next year you'll be {age + 1}.\")  # f-string = format string"
      ],
      "metadata": {
        "colab": {
          "base_uri": "https://localhost:8080/"
        },
        "id": "jwj2YcJlazEp",
        "outputId": "be8b72cd-7449-48d4-f028-4b278bc87bab"
      },
      "execution_count": 8,
      "outputs": [
        {
          "output_type": "stream",
          "name": "stdout",
          "text": [
            "Your name: 2025\n",
            "Your age: 25\n",
            "Hi 2025, next year you'll be 26.\n"
          ]
        }
      ]
    },
    {
      "cell_type": "code",
      "source": [
        "# store values in variables\n",
        "name = \"2025\"\n",
        "age = 25\n",
        "\n",
        "# printing\n",
        "print(\"Name:\", name)\n",
        "print(\"Age:\", age)\n",
        "\n",
        "# f-string makes it nicer\n",
        "print(f\"My name is {name} and I am {age} years old.\")\n"
      ],
      "metadata": {
        "colab": {
          "base_uri": "https://localhost:8080/"
        },
        "id": "-L-kYcHyPtBu",
        "outputId": "003624da-d566-4768-ec52-3cd623952347"
      },
      "execution_count": 9,
      "outputs": [
        {
          "output_type": "stream",
          "name": "stdout",
          "text": [
            "Name: 2025\n",
            "Age: 25\n",
            "My name is 2025 and I am 25 years old.\n"
          ]
        }
      ]
    },
    {
      "cell_type": "code",
      "source": [
        "# ask user for input (always comes in as text/string)\n",
        "username = input(\"Enter your name: \")\n",
        "print(f\"Hi {username}, nice to meet you!\")\n"
      ],
      "metadata": {
        "colab": {
          "base_uri": "https://localhost:8080/"
        },
        "id": "s6yJ3HdUQMPv",
        "outputId": "e03c3ebd-ca47-490a-bb11-fd656eddcfbb"
      },
      "execution_count": 11,
      "outputs": [
        {
          "output_type": "stream",
          "name": "stdout",
          "text": [
            "Enter your name: 2025\n",
            "Hi 2025, nice to meet you!\n"
          ]
        }
      ]
    },
    {
      "cell_type": "code",
      "source": [
        "x = 25            # int\n",
        "y = 3.14          # float\n",
        "z = \"AI rocks\"    # str\n",
        "t = True          # bool\n",
        "n = None          # special \"nothing\"\n",
        "\n",
        "print(type(x), type(y), type(z), type(t), type(n))\n"
      ],
      "metadata": {
        "colab": {
          "base_uri": "https://localhost:8080/"
        },
        "id": "FpjlcD3oQ50b",
        "outputId": "e80d9410-176b-4983-f62a-9ae09411c751"
      },
      "execution_count": 15,
      "outputs": [
        {
          "output_type": "stream",
          "name": "stdout",
          "text": [
            "<class 'int'> <class 'float'> <class 'str'> <class 'bool'> <class 'NoneType'>\n"
          ]
        }
      ]
    },
    {
      "cell_type": "code",
      "source": [
        "s = \"Artificial Intelligence\"\n",
        "print(s.lower())\n",
        "print(s.upper())\n",
        "print(s.split())       # break into words\n",
        "print(s.replace(\"Artificial\", \"AI\"))\n",
        "print(s[:5])           # slice: first 5 chars\n"
      ],
      "metadata": {
        "colab": {
          "base_uri": "https://localhost:8080/"
        },
        "id": "pfYinkjtRI1U",
        "outputId": "28555907-885f-487c-f03f-a73ad41d8d6a"
      },
      "execution_count": 16,
      "outputs": [
        {
          "output_type": "stream",
          "name": "stdout",
          "text": [
            "artificial intelligence\n",
            "ARTIFICIAL INTELLIGENCE\n",
            "['Artificial', 'Intelligence']\n",
            "AI Intelligence\n",
            "Artif\n"
          ]
        }
      ]
    },
    {
      "cell_type": "code",
      "source": [
        "def greet(person):\n",
        "    \"\"\"This function takes a name and returns a greeting.\"\"\"\n",
        "    # The line below builds the message\n",
        "    return f\"Hello, {person}!\"\n",
        "\n",
        "print(greet(person=\"2025\"))"
      ],
      "metadata": {
        "colab": {
          "base_uri": "https://localhost:8080/"
        },
        "id": "npi3lrDORPRy",
        "outputId": "f2715b9d-b09a-4706-ae9c-d78e8fd22d9d"
      },
      "execution_count": 17,
      "outputs": [
        {
          "output_type": "stream",
          "name": "stdout",
          "text": [
            "Hello, 2025!\n"
          ]
        }
      ]
    },
    {
      "cell_type": "code",
      "source": [
        "text = input(\"Enter a sentence: \").strip()\n",
        "words = text.split()\n",
        "print(\"Characters:\", len(text))\n",
        "print(\"Words:\", len(words))\n",
        "print(\"First word:\", words[0] if words else \"(none)\")\n",
        "print(\"Last word:\", words[-1] if words else \"(none)\")"
      ],
      "metadata": {
        "colab": {
          "base_uri": "https://localhost:8080/"
        },
        "id": "gd7LkwsqTQFf",
        "outputId": "dcf59bfc-5153-4edc-d226-559bf27ff56c"
      },
      "execution_count": 18,
      "outputs": [
        {
          "output_type": "stream",
          "name": "stdout",
          "text": [
            "Enter a sentence: this is a newbee trying to create a path to AI / ML \n",
            "Characters: 51\n",
            "Words: 13\n",
            "First word: this\n",
            "Last word: ML\n"
          ]
        }
      ]
    }
  ]
}