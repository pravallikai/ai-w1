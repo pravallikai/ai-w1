{
  "nbformat": 4,
  "nbformat_minor": 0,
  "metadata": {
    "colab": {
      "provenance": [],
      "authorship_tag": "ABX9TyNvPzY3zI2jiGBkQujglutt",
      "include_colab_link": true
    },
    "kernelspec": {
      "name": "python3",
      "display_name": "Python 3"
    },
    "language_info": {
      "name": "python"
    }
  },
  "cells": [
    {
      "cell_type": "markdown",
      "metadata": {
        "id": "view-in-github",
        "colab_type": "text"
      },
      "source": [
        "<a href=\"https://colab.research.google.com/github/pravallikai/ai-w1/blob/main/Day1.ipynb\" target=\"_parent\"><img src=\"https://colab.research.google.com/assets/colab-badge.svg\" alt=\"Open In Colab\"/></a>"
      ]
    },
    {
      "cell_type": "code",
      "execution_count": 9,
      "metadata": {
        "colab": {
          "base_uri": "https://localhost:8080/"
        },
        "id": "uWjm30-KU9JW",
        "outputId": "f0dde033-c33d-43c7-a2b8-b4294e7e574d"
      },
      "outputs": [
        {
          "output_type": "stream",
          "name": "stdout",
          "text": [
            "Colab ready\n",
            "Python: 3.12.12\n",
            "Executable: /usr/bin/python3\n"
          ]
        }
      ],
      "source": [
        "import platform, sys\n",
        "print(\"Colab ready\")\n",
        "print(\"Python:\", platform.python_version())\n",
        "print(\"Executable:\", sys.executable)"
      ]
    },
    {
      "cell_type": "code",
      "source": [
        "# Lab 1: Hello & Age\n",
        "name = input(\"Your name: \")\n",
        "age = int(input(\"Your age: \"))   # int(...) converts text to a number\n",
        "print(f\"Hi {name}, next year you'll be {age + 1}.\")  # f-string = format string"
      ],
      "metadata": {
        "colab": {
          "base_uri": "https://localhost:8080/"
        },
        "id": "jwj2YcJlazEp",
        "outputId": "53847035-e11e-4791-c490-35668f2373ec"
      },
      "execution_count": 10,
      "outputs": [
        {
          "output_type": "stream",
          "name": "stdout",
          "text": [
            "Your name: 888\n",
            "Your age: 666\n",
            "Hi 888, next year you'll be 667.\n"
          ]
        }
      ]
    }
  ]
}
