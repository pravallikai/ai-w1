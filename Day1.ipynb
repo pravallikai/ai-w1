{
  "nbformat": 4,
  "nbformat_minor": 0,
  "metadata": {
    "colab": {
      "provenance": [],
      "authorship_tag": "ABX9TyO5ask7GN+JpN6X3F9Z1ai+",
      "include_colab_link": true
    },
    "kernelspec": {
      "name": "python3",
      "display_name": "Python 3"
    },
    "language_info": {
      "name": "python"
    }
  },
  "cells": [
    {
      "cell_type": "markdown",
      "metadata": {
        "id": "view-in-github",
        "colab_type": "text"
      },
      "source": [
        "<a href=\"https://colab.research.google.com/github/pravallikai/ai-w1/blob/main/Day1.ipynb\" target=\"_parent\"><img src=\"https://colab.research.google.com/assets/colab-badge.svg\" alt=\"Open In Colab\"/></a>"
      ]
    },
    {
      "cell_type": "code",
      "execution_count": null,
      "metadata": {
        "colab": {
          "base_uri": "https://localhost:8080/"
        },
        "id": "uWjm30-KU9JW",
        "outputId": "908ef634-741e-4dac-d2e4-69e31b7fec8c"
      },
      "outputs": [
        {
          "output_type": "stream",
          "name": "stdout",
          "text": [
            "Colab ready\n",
            "Python: 3.12.12\n",
            "Executable: /usr/bin/python3\n"
          ]
        }
      ],
      "source": [
        "import platform, sys\n",
        "print(\"Colab ready\")\n",
        "print(\"Python:\", platform.python_version())\n",
        "print(\"Executable:\", sys.executable)"
      ]
    },
    {
      "cell_type": "code",
      "source": [
        "\n",
        "# Lab 1: Hello & Age\n",
        "name = input(\"Your name: \")\n",
        "while True:\n",
        "  try:\n",
        "    age = int(input(\"Your age:\"))   # int(...) converts text to a number\n",
        "    break  # Exit the loop if the conversion is successful\n",
        "  except ValueError:\n",
        "    print(\"Invalid input. Please enter your age as a number.\")\n",
        "\n",
        "print(f\"Hi {name}, next year you'll be {age + 1}.\")  # f-string = format string"
      ],
      "metadata": {
        "colab": {
          "base_uri": "https://localhost:8080/"
        },
        "id": "jwj2YcJlazEp",
        "outputId": "fcd707f6-2b6e-4c59-f089-bd5c9cb9ec77"
      },
      "execution_count": null,
      "outputs": [
        {
          "name": "stdout",
          "output_type": "stream",
          "text": [
            "Your name: isu\n"
          ]
        }
      ]
    }
  ]
}