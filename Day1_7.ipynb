{
  "nbformat": 4,
  "nbformat_minor": 0,
  "metadata": {
    "colab": {
      "provenance": [],
      "authorship_tag": "ABX9TyMQuL4xseELG7IbKyXJbDJQ",
      "include_colab_link": true
    },
    "kernelspec": {
      "name": "python3",
      "display_name": "Python 3"
    },
    "language_info": {
      "name": "python"
    }
  },
  "cells": [
    {
      "cell_type": "markdown",
      "metadata": {
        "id": "view-in-github",
        "colab_type": "text"
      },
      "source": [
        "<a href=\"https://colab.research.google.com/github/pravallikai/ai-w1/blob/main/Day1_7.ipynb\" target=\"_parent\"><img src=\"https://colab.research.google.com/assets/colab-badge.svg\" alt=\"Open In Colab\"/></a>"
      ]
    },
    {
      "cell_type": "code",
      "execution_count": null,
      "metadata": {
        "colab": {
          "base_uri": "https://localhost:8080/"
        },
        "id": "uWjm30-KU9JW",
        "outputId": "5fa1266a-9e1a-424b-961e-e5d2344769ba"
      },
      "outputs": [
        {
          "output_type": "stream",
          "name": "stdout",
          "text": [
            "Colab ready\n",
            "Python: 3.12.12\n",
            "Executable: /usr/bin/python3\n"
          ]
        }
      ],
      "source": [
        "import platform, sys\n",
        "print(\"Colab ready\")\n",
        "print(\"Python:\", platform.python_version())\n",
        "print(\"Executable:\", sys.executable)"
      ]
    },
    {
      "cell_type": "code",
      "source": [
        "# Lab 1: Hello & Age\n",
        "name = input(\"Your name: \")\n",
        "age = int(input(\"Your age: \"))   # int(...) converts text to a number\n",
        "print(f\"Hi {name}, next year you'll be {age + 1}.\")  # f-string = format string"
      ],
      "metadata": {
        "colab": {
          "base_uri": "https://localhost:8080/"
        },
        "id": "jwj2YcJlazEp",
        "outputId": "be8b72cd-7449-48d4-f028-4b278bc87bab"
      },
      "execution_count": null,
      "outputs": [
        {
          "output_type": "stream",
          "name": "stdout",
          "text": [
            "Your name: 2025\n",
            "Your age: 25\n",
            "Hi 2025, next year you'll be 26.\n"
          ]
        }
      ]
    },
    {
      "cell_type": "code",
      "source": [
        "# store values in variables\n",
        "name = \"2025\"\n",
        "age = 25\n",
        "\n",
        "# printing\n",
        "print(\"Name:\", name)\n",
        "print(\"Age:\", age)\n",
        "\n",
        "# f-string makes it nicer\n",
        "print(f\"My name is {name} and I am {age} years old.\")\n"
      ],
      "metadata": {
        "colab": {
          "base_uri": "https://localhost:8080/"
        },
        "id": "-L-kYcHyPtBu",
        "outputId": "003624da-d566-4768-ec52-3cd623952347"
      },
      "execution_count": null,
      "outputs": [
        {
          "output_type": "stream",
          "name": "stdout",
          "text": [
            "Name: 2025\n",
            "Age: 25\n",
            "My name is 2025 and I am 25 years old.\n"
          ]
        }
      ]
    },
    {
      "cell_type": "code",
      "source": [
        "# ask user for input (always comes in as text/string)\n",
        "username = input(\"Enter your name: \")\n",
        "print(f\"Hi {username}, nice to meet you!\")\n"
      ],
      "metadata": {
        "colab": {
          "base_uri": "https://localhost:8080/"
        },
        "id": "s6yJ3HdUQMPv",
        "outputId": "e03c3ebd-ca47-490a-bb11-fd656eddcfbb"
      },
      "execution_count": null,
      "outputs": [
        {
          "output_type": "stream",
          "name": "stdout",
          "text": [
            "Enter your name: 2025\n",
            "Hi 2025, nice to meet you!\n"
          ]
        }
      ]
    },
    {
      "cell_type": "code",
      "source": [
        "x = 25            # int\n",
        "y = 3.14          # float\n",
        "z = \"AI rocks\"    # str\n",
        "t = True          # bool\n",
        "n = None          # special \"nothing\"\n",
        "\n",
        "print(type(x), type(y), type(z), type(t), type(n))\n"
      ],
      "metadata": {
        "colab": {
          "base_uri": "https://localhost:8080/"
        },
        "id": "FpjlcD3oQ50b",
        "outputId": "e80d9410-176b-4983-f62a-9ae09411c751"
      },
      "execution_count": null,
      "outputs": [
        {
          "output_type": "stream",
          "name": "stdout",
          "text": [
            "<class 'int'> <class 'float'> <class 'str'> <class 'bool'> <class 'NoneType'>\n"
          ]
        }
      ]
    },
    {
      "cell_type": "code",
      "source": [
        "s = \"Artificial Intelligence\"\n",
        "print(s.lower())\n",
        "print(s.upper())\n",
        "print(s.split())       # break into words\n",
        "print(s.replace(\"Artificial\", \"AI\"))\n",
        "print(s[:5])           # slice: first 5 chars\n"
      ],
      "metadata": {
        "colab": {
          "base_uri": "https://localhost:8080/"
        },
        "id": "pfYinkjtRI1U",
        "outputId": "28555907-885f-487c-f03f-a73ad41d8d6a"
      },
      "execution_count": null,
      "outputs": [
        {
          "output_type": "stream",
          "name": "stdout",
          "text": [
            "artificial intelligence\n",
            "ARTIFICIAL INTELLIGENCE\n",
            "['Artificial', 'Intelligence']\n",
            "AI Intelligence\n",
            "Artif\n"
          ]
        }
      ]
    },
    {
      "cell_type": "code",
      "source": [
        "def greet(person):\n",
        "    \"\"\"This function takes a name and returns a greeting.\"\"\"\n",
        "    # The line below builds the message\n",
        "    return f\"Hello, {person}!\"\n",
        "\n",
        "print(greet(person=\"2025\"))"
      ],
      "metadata": {
        "colab": {
          "base_uri": "https://localhost:8080/"
        },
        "id": "npi3lrDORPRy",
        "outputId": "f2715b9d-b09a-4706-ae9c-d78e8fd22d9d"
      },
      "execution_count": null,
      "outputs": [
        {
          "output_type": "stream",
          "name": "stdout",
          "text": [
            "Hello, 2025!\n"
          ]
        }
      ]
    },
    {
      "cell_type": "code",
      "source": [
        "text = input(\"Enter a sentence: \").strip()\n",
        "words = text.split()\n",
        "print(\"Characters:\", len(text))\n",
        "print(\"Words:\", len(words))\n",
        "print(\"First word:\", words[0] if words else \"(none)\")\n",
        "print(\"Last word:\", words[-1] if words else \"(none)\")"
      ],
      "metadata": {
        "colab": {
          "base_uri": "https://localhost:8080/"
        },
        "id": "gd7LkwsqTQFf",
        "outputId": "dcf59bfc-5153-4edc-d226-559bf27ff56c"
      },
      "execution_count": null,
      "outputs": [
        {
          "output_type": "stream",
          "name": "stdout",
          "text": [
            "Enter a sentence: this is a newbee trying to create a path to AI / ML \n",
            "Characters: 51\n",
            "Words: 13\n",
            "First word: this\n",
            "Last word: ML\n"
          ]
        }
      ]
    },
    {
      "cell_type": "code",
      "source": [
        "# Arithmetic\n",
        "print(5 + 3)    # add\n",
        "print(5 - 3)    # subtract\n",
        "print(5 * 3)    # multiply\n",
        "print(5 / 3)    # divide (float)\n",
        "print(5 // 3)   # floor divide\n",
        "print(5 % 3)    # remainder\n",
        "print(5 ** 2)   # exponent\n",
        "\n",
        "# Comparisons\n",
        "print(5 == 5)   # equal? True\n",
        "print(5 != 3)   # not equal? True\n",
        "print(5 > 3)    # greater than\n",
        "print(5 < 3)    # less than\n",
        "print(\"ai\" == \"AI\")  # False (case-sensitive)\n",
        "\n",
        "a=int(input(\"please enter a number\"))\n",
        "b=float(input(\"please enter a number\"))\n",
        "print(a+b)\n"
      ],
      "metadata": {
        "colab": {
          "base_uri": "https://localhost:8080/"
        },
        "id": "pxxJ1T60WlT0",
        "outputId": "8c36295c-e53d-4053-b5f5-fa75910fdead"
      },
      "execution_count": null,
      "outputs": [
        {
          "output_type": "stream",
          "name": "stdout",
          "text": [
            "8\n",
            "2\n",
            "15\n",
            "1.6666666666666667\n",
            "1\n",
            "2\n",
            "25\n",
            "True\n",
            "True\n",
            "True\n",
            "False\n",
            "False\n",
            "please enter a number888\n",
            "please enter a number888.35\n",
            "1776.35\n"
          ]
        }
      ]
    },
    {
      "cell_type": "code",
      "source": [
        "print(True and False)  # both must be True → False\n",
        "print(True or False)   # either True → True\n",
        "print(not True)        # flips value → False\n",
        "\n",
        "x = 10\n",
        "print(x > 5 and x < 20)   # True if both conditions hold\n",
        "print(x < 5 or x > 100)   # True if either condition holds\n"
      ],
      "metadata": {
        "colab": {
          "base_uri": "https://localhost:8080/"
        },
        "id": "r3g1N2OVXUk1",
        "outputId": "3b6c46ad-f83a-4c0f-d32e-4ad5a7941790"
      },
      "execution_count": null,
      "outputs": [
        {
          "output_type": "stream",
          "name": "stdout",
          "text": [
            "False\n",
            "True\n",
            "False\n",
            "True\n",
            "False\n"
          ]
        }
      ]
    },
    {
      "cell_type": "code",
      "source": [
        "print(bool(0))        # False\n",
        "print(bool(42))       # True\n",
        "print(bool(\"\"))       # False (empty string)\n",
        "print(bool(\"AI\"))     # True (non-empty string)\n",
        "print(bool([]))       # False (empty list)\n",
        "print(bool([1,2,3]))  # True\n"
      ],
      "metadata": {
        "colab": {
          "base_uri": "https://localhost:8080/"
        },
        "id": "68KdfdxGYCsG",
        "outputId": "0d0181ab-8abc-4a62-8abe-7863fa102503"
      },
      "execution_count": null,
      "outputs": [
        {
          "output_type": "stream",
          "name": "stdout",
          "text": [
            "False\n",
            "True\n",
            "False\n",
            "True\n",
            "False\n",
            "True\n"
          ]
        }
      ]
    },
    {
      "cell_type": "code",
      "source": [
        "temp = int(input(\"Temperature in C: \"))\n",
        "\n",
        "if temp < 0:\n",
        "    print(\"Freezing ❄️\")\n",
        "elif temp < 20:\n",
        "    print(\"Cool 🌤\")\n",
        "else:\n",
        "    print(\"Warm ☀️\")\n"
      ],
      "metadata": {
        "colab": {
          "base_uri": "https://localhost:8080/"
        },
        "id": "vO9xvBxOYo6S",
        "outputId": "1eb42f3d-8cb7-4064-a6f2-872ac7a24b10"
      },
      "execution_count": null,
      "outputs": [
        {
          "output_type": "stream",
          "name": "stdout",
          "text": [
            "Temperature in C: 58\n",
            "Warm ☀️\n"
          ]
        }
      ]
    },
    {
      "cell_type": "code",
      "source": [
        "text = input(\"Enter a sentence: \").strip()\n",
        "\n",
        "if not text:\n",
        "    print(\"Empty sentence!\")\n",
        "else:\n",
        "    words = text.split()\n",
        "    if len(words) < 5:\n",
        "        print(\"the entered sentence is Short sentence.\")\n",
        "    elif len(words) < 15:\n",
        "        print(\"the entered sentence is Medium sentence.\")\n",
        "    else:\n",
        "        print(\"the entered sentence is Long sentence.\")\n"
      ],
      "metadata": {
        "colab": {
          "base_uri": "https://localhost:8080/"
        },
        "id": "4Vjc4PxvY3ij",
        "outputId": "b88b7766-2949-4b48-fc60-d5805178e6d5"
      },
      "execution_count": null,
      "outputs": [
        {
          "output_type": "stream",
          "name": "stdout",
          "text": [
            "Enter a sentence: Data wrangling is the process of cleaning, structuring, and enriching raw data to make it suitable for analysis, such as in machine learning or data visualization. It involves transforming messy, unstructured data into a clean, organized format by handling issues like missing values, inconsistencies, and duplicate entries, which is crucial because raw data can be misleading or unreliable. \n",
            "the entered sentence is Long sentence.\n"
          ]
        }
      ]
    },
    {
      "cell_type": "code",
      "source": [
        "#Lists\n",
        "nums = [1, 2, 3, 4]\n",
        "nums.append(5)\n",
        "print(nums)          # [1, 2, 3, 4, 5]\n",
        "print(nums[0])       # indexing → 1\n",
        "print(nums[-1])      # last item → 5\n",
        "print(nums[1:3])     # slice → [2, 3]\n"
      ],
      "metadata": {
        "colab": {
          "base_uri": "https://localhost:8080/"
        },
        "id": "h9CHMK9KdWtx",
        "outputId": "55907f0c-6fcf-4545-9b75-d0a749e5247b"
      },
      "execution_count": null,
      "outputs": [
        {
          "output_type": "stream",
          "name": "stdout",
          "text": [
            "[1, 2, 3, 4, 5]\n",
            "1\n",
            "5\n",
            "[2, 3]\n"
          ]
        }
      ]
    },
    {
      "cell_type": "code",
      "source": [
        "#Tuples\n",
        "point = (3, 4)\n",
        "print(point[0])   # 3\n",
        "# point[0] = 5   # ❌ error (immutable)\n"
      ],
      "metadata": {
        "id": "sA7mXw-Kekda",
        "outputId": "b3f9e136-29b7-435c-ce3f-a2d2ce9eb360",
        "colab": {
          "base_uri": "https://localhost:8080/"
        }
      },
      "execution_count": null,
      "outputs": [
        {
          "output_type": "stream",
          "name": "stdout",
          "text": [
            "3\n"
          ]
        }
      ]
    },
    {
      "cell_type": "code",
      "source": [
        "#Dictionaries\n",
        "user = {\"name\": \"Ada\", \"role\": \"Engineer\"}\n",
        "print(user[\"name\"])       # Ada\n",
        "user[\"role\"] = \"AI Eng\"   # update value\n",
        "print(user.get(\"mr.bean\", \"N/A\"))  # safe lookup with default"
      ],
      "metadata": {
        "colab": {
          "base_uri": "https://localhost:8080/"
        },
        "id": "1cwfp99QlEbg",
        "outputId": "0ad82543-40d8-497a-d358-621c7916de48"
      },
      "execution_count": null,
      "outputs": [
        {
          "output_type": "stream",
          "name": "stdout",
          "text": [
            "Ada\n",
            "N/A\n"
          ]
        }
      ]
    },
    {
      "cell_type": "code",
      "source": [
        "#sets\n",
        "animals = {\"cat\", \"dog\", \"dog\", \"bird\"}\n",
        "print(animals)     # {'cat', 'dog', 'bird'} (duplicates removed)\n",
        "print(\"dog\" in animals)   # True\n"
      ],
      "metadata": {
        "colab": {
          "base_uri": "https://localhost:8080/"
        },
        "id": "cHwfHkE9lWEL",
        "outputId": "5d12cc68-6022-41b3-dd13-b3b120d1335e"
      },
      "execution_count": null,
      "outputs": [
        {
          "output_type": "stream",
          "name": "stdout",
          "text": [
            "{'bird', 'cat', 'dog'}\n",
            "True\n"
          ]
        }
      ]
    },
    {
      "cell_type": "code",
      "source": [
        "nums = [1,2,3]\n",
        "alias = nums          # both names → same list\n",
        "clone = nums.copy()   # shallow copy\n",
        "\n",
        "alias.append(99)\n",
        "print(nums)           # [1,2,3,99] (changed too!)\n",
        "print(clone)          # [1,2,3] (safe)\n"
      ],
      "metadata": {
        "colab": {
          "base_uri": "https://localhost:8080/"
        },
        "id": "RihZ_Hx2tfZy",
        "outputId": "8c018572-f29d-492a-cd5a-1c7276d8b101"
      },
      "execution_count": null,
      "outputs": [
        {
          "output_type": "stream",
          "name": "stdout",
          "text": [
            "[1, 2, 3, 99]\n",
            "[1, 2, 3]\n"
          ]
        }
      ]
    },
    {
      "cell_type": "code",
      "source": [
        "nums = [1, 2, 3, 4, 5]\n",
        "squares = [n**2 for n in nums]\n",
        "odds = [n for n in nums if n % 2]\n",
        "print(squares)   # [1, 4, 9, 16, 25]\n",
        "print(odds)      # [1, 3, 5]\n"
      ],
      "metadata": {
        "colab": {
          "base_uri": "https://localhost:8080/"
        },
        "id": "nMTvtKdnvJrj",
        "outputId": "d1f1058c-bcc9-4b1f-b489-b3d4b275e762"
      },
      "execution_count": null,
      "outputs": [
        {
          "output_type": "stream",
          "name": "stdout",
          "text": [
            "[1, 4, 9, 16, 25]\n",
            "[1, 3, 5]\n"
          ]
        }
      ]
    }
  ]
}